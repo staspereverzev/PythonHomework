{
 "cells": [
  {
   "cell_type": "code",
   "execution_count": null,
   "id": "6151a574",
   "metadata": {},
   "outputs": [],
   "source": [
    "# Дана функция f(x) = 5x^2 + 10x - 30\n",
    "\n",
    "# 1. Определить корни\n",
    "\n",
    "# 2. Найти интервалы, на которых функция возрастает\n",
    "\n",
    "# 3. Найти интервалы, на которых функция убывает\n",
    "\n",
    "# 4. Построить график\n",
    "\n",
    "# 5. Вычислить вершину\n",
    "\n",
    "# 6. Определить промежутки, на котором f > 0\n",
    "\n",
    "# 7. Определить промежутки, на котором f < 0\n"
   ]
  },
  {
   "cell_type": "code",
   "execution_count": 9,
   "id": "d43930d6",
   "metadata": {},
   "outputs": [
    {
     "name": "stdout",
     "output_type": "stream",
     "text": [
      "-3.6457513110645907 1.6457513110645905\n"
     ]
    }
   ],
   "source": [
    "#Корни\n",
    "a = 5\n",
    "b = 10\n",
    "c = -30\n",
    "d = b**2 - 4*a*c\n",
    "x1 = (-b - d**0.5)/(2 * a)\n",
    "x2 = (-b + d**0.5)/(2 * a)\n",
    "print(x1,x2)"
   ]
  },
  {
   "cell_type": "code",
   "execution_count": 10,
   "id": "4d466dda",
   "metadata": {},
   "outputs": [
    {
     "name": "stdout",
     "output_type": "stream",
     "text": [
      "[-1 + sqrt(7), -sqrt(7) - 1]\n"
     ]
    }
   ],
   "source": [
    "import sympy\n",
    "x = sympy.symbols('x')\n",
    "print(sympy.solve(5*x**2 + 10*x - 30))"
   ]
  },
  {
   "cell_type": "code",
   "execution_count": 22,
   "id": "dbf23c95",
   "metadata": {},
   "outputs": [
    {
     "name": "stdout",
     "output_type": "stream",
     "text": [
      "Функция убывает на промежутке (-∞; -1), функция возрастает на промежутке (-1; +∞)\n",
      "Вершина является -1, -35\n"
     ]
    }
   ],
   "source": [
    "#Вершина\n",
    "from sympy import *\n",
    "x = symbols('x')\n",
    "f = 5*x**2 + 10*x - 30\n",
    "dir_f = solve(f.diff(x))\n",
    "dir_y = 5*dir_f[0]**2 + 10*dir_f[0] - 30\n",
    "\n",
    "print(f'Функция убывает на промежутке (-∞; {dir_f[0]}), функция возрастает на промежутке ({dir_f[0]}; +∞)\\nВершина является {dir_f[0]}, {dir_y}')\n"
   ]
  },
  {
   "cell_type": "code",
   "execution_count": null,
   "id": "adeb976f",
   "metadata": {},
   "outputs": [],
   "source": [
    "# # импортируем модули\n",
    "# import numpy as np\n",
    "# import matplotlib.pyplot as plt\n",
    "# # функция\n",
    "# y = lambda x: np.sin(x)\n",
    "# y1=lambda x: x\n",
    "# # создаём рисунок с координатную плоскость\n",
    "# fig = plt.subplots()\n",
    "# # создаём область, в которой будет\n",
    "# # - отображаться график\n",
    "# x = np.linspace(-3, 3,100)\n",
    "# # значения x, которые будут отображены\n",
    "# # количество элементов в созданном массиве\n",
    "# # - качество прорисовки графика \n",
    "# # рисуем график\n",
    "# plt.plot(x, y(x))\n",
    "# plt.plot(x,y1(x))\n",
    "# # показываем график\n",
    "# plt.show()\n"
   ]
  },
  {
   "cell_type": "code",
   "execution_count": 32,
   "id": "236c67e2",
   "metadata": {},
   "outputs": [
    {
     "data": {
      "image/png": "[encoded data removed]",
      "text/plain": [
       "<Figure size 432x288 with 1 Axes>"
      ]
     },
     "metadata": {
      "needs_background": "light"
     },
     "output_type": "display_data"
    }
   ],
   "source": [
    "import numpy as np\n",
    "import matplotlib.pyplot as plt\n",
    "\n",
    "y = lambda x: 5*x**2 + 10*x - 30\n",
    "fig = plt.subplots()\n",
    "x = np.linspace(-12, 10,70)\n",
    "plt.plot(x, y(x))\n",
    "plt.show()"
   ]
  },
  {
   "cell_type": "code",
   "execution_count": null,
   "id": "1bf3e6ed",
   "metadata": {},
   "outputs": [],
   "source": []
  }
 ],
 "metadata": {
  "kernelspec": {
   "display_name": "Python 3 (ipykernel)",
   "language": "python",
   "name": "python3"
  },
  "language_info": {
   "codemirror_mode": {
    "name": "ipython",
    "version": 3
   },
   "file_extension": ".py",
   "mimetype": "text/x-python",
   "name": "python",
   "nbconvert_exporter": "python",
   "pygments_lexer": "ipython3",
   "version": "3.9.12"
  }
 },
 "nbformat": 4,
 "nbformat_minor": 5
}
